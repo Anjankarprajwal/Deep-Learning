{
 "cells": [
  {
   "cell_type": "code",
   "execution_count": 1,
   "id": "e1a355bc",
   "metadata": {},
   "outputs": [
    {
     "name": "stdout",
     "output_type": "stream",
     "text": [
      "2.6.2\n",
      "1.19.5\n"
     ]
    }
   ],
   "source": [
    "# TensorFlow and tf.keras\n",
    "import tensorflow as tf \n",
    "from tensorflow import keras\n",
    "\n",
    "# Helper libraries\n",
    "import numpy as np\n",
    "import matplotlib.pyplot as plt\n",
    "\n",
    "print(tf.__version__)\n",
    "print(np.__version__)"
   ]
  },
  {
   "cell_type": "code",
   "execution_count": 2,
   "id": "7eee1bec",
   "metadata": {},
   "outputs": [],
   "source": [
    "fashion_mnist = keras.datasets.fashion_mnist\n",
    "\n",
    "(train_images,train_labels), (test_images, test_labels) = fashion_mnist.load_data()"
   ]
  },
  {
   "cell_type": "code",
   "execution_count": 3,
   "id": "8e325e76",
   "metadata": {},
   "outputs": [
    {
     "data": {
      "text/plain": [
       "(60000, 28, 28)"
      ]
     },
     "execution_count": 3,
     "metadata": {},
     "output_type": "execute_result"
    }
   ],
   "source": [
    "train_images.shape"
   ]
  },
  {
   "cell_type": "code",
   "execution_count": 4,
   "id": "96637fa9",
   "metadata": {},
   "outputs": [
    {
     "data": {
      "text/plain": [
       "(10000, 28, 28)"
      ]
     },
     "execution_count": 4,
     "metadata": {},
     "output_type": "execute_result"
    }
   ],
   "source": [
    "test_images.shape"
   ]
  },
  {
   "cell_type": "code",
   "execution_count": 5,
   "id": "aa7e2f9a",
   "metadata": {},
   "outputs": [
    {
     "data": {
      "text/plain": [
       "array([[  0,   0,   0,   0,   0,   0,   0,   0,   0,   0,   0,   0,   0,\n",
       "          0,   0,   0,   0,   0,   0,   0,   0,   0,   0,   0,   0,   0,\n",
       "          0,   0],\n",
       "       [  0,   0,   0,   0,   0,   0,   0,   0,   0,   0,   0,   0,   0,\n",
       "          0,   0,   0,   0,   0,   0,   0,   0,   0,   0,   0,   0,   0,\n",
       "          0,   0],\n",
       "       [  0,   0,   0,   0,   0,   0,   0,   0,   0,   0,   0,   0,   0,\n",
       "          0,   0,   0,   0,   0,   0,   0,   0,   0,   0,   0,   0,   0,\n",
       "          0,   0],\n",
       "       [  0,   0,   0,   0,   0,   0,   0,   0,   0,   0,   0,   0,   1,\n",
       "          0,   0,  13,  73,   0,   0,   1,   4,   0,   0,   0,   0,   1,\n",
       "          1,   0],\n",
       "       [  0,   0,   0,   0,   0,   0,   0,   0,   0,   0,   0,   0,   3,\n",
       "          0,  36, 136, 127,  62,  54,   0,   0,   0,   1,   3,   4,   0,\n",
       "          0,   3],\n",
       "       [  0,   0,   0,   0,   0,   0,   0,   0,   0,   0,   0,   0,   6,\n",
       "          0, 102, 204, 176, 134, 144, 123,  23,   0,   0,   0,   0,  12,\n",
       "         10,   0],\n",
       "       [  0,   0,   0,   0,   0,   0,   0,   0,   0,   0,   0,   0,   0,\n",
       "          0, 155, 236, 207, 178, 107, 156, 161, 109,  64,  23,  77, 130,\n",
       "         72,  15],\n",
       "       [  0,   0,   0,   0,   0,   0,   0,   0,   0,   0,   0,   1,   0,\n",
       "         69, 207, 223, 218, 216, 216, 163, 127, 121, 122, 146, 141,  88,\n",
       "        172,  66],\n",
       "       [  0,   0,   0,   0,   0,   0,   0,   0,   0,   1,   1,   1,   0,\n",
       "        200, 232, 232, 233, 229, 223, 223, 215, 213, 164, 127, 123, 196,\n",
       "        229,   0],\n",
       "       [  0,   0,   0,   0,   0,   0,   0,   0,   0,   0,   0,   0,   0,\n",
       "        183, 225, 216, 223, 228, 235, 227, 224, 222, 224, 221, 223, 245,\n",
       "        173,   0],\n",
       "       [  0,   0,   0,   0,   0,   0,   0,   0,   0,   0,   0,   0,   0,\n",
       "        193, 228, 218, 213, 198, 180, 212, 210, 211, 213, 223, 220, 243,\n",
       "        202,   0],\n",
       "       [  0,   0,   0,   0,   0,   0,   0,   0,   0,   1,   3,   0,  12,\n",
       "        219, 220, 212, 218, 192, 169, 227, 208, 218, 224, 212, 226, 197,\n",
       "        209,  52],\n",
       "       [  0,   0,   0,   0,   0,   0,   0,   0,   0,   0,   6,   0,  99,\n",
       "        244, 222, 220, 218, 203, 198, 221, 215, 213, 222, 220, 245, 119,\n",
       "        167,  56],\n",
       "       [  0,   0,   0,   0,   0,   0,   0,   0,   0,   4,   0,   0,  55,\n",
       "        236, 228, 230, 228, 240, 232, 213, 218, 223, 234, 217, 217, 209,\n",
       "         92,   0],\n",
       "       [  0,   0,   1,   4,   6,   7,   2,   0,   0,   0,   0,   0, 237,\n",
       "        226, 217, 223, 222, 219, 222, 221, 216, 223, 229, 215, 218, 255,\n",
       "         77,   0],\n",
       "       [  0,   3,   0,   0,   0,   0,   0,   0,   0,  62, 145, 204, 228,\n",
       "        207, 213, 221, 218, 208, 211, 218, 224, 223, 219, 215, 224, 244,\n",
       "        159,   0],\n",
       "       [  0,   0,   0,   0,  18,  44,  82, 107, 189, 228, 220, 222, 217,\n",
       "        226, 200, 205, 211, 230, 224, 234, 176, 188, 250, 248, 233, 238,\n",
       "        215,   0],\n",
       "       [  0,  57, 187, 208, 224, 221, 224, 208, 204, 214, 208, 209, 200,\n",
       "        159, 245, 193, 206, 223, 255, 255, 221, 234, 221, 211, 220, 232,\n",
       "        246,   0],\n",
       "       [  3, 202, 228, 224, 221, 211, 211, 214, 205, 205, 205, 220, 240,\n",
       "         80, 150, 255, 229, 221, 188, 154, 191, 210, 204, 209, 222, 228,\n",
       "        225,   0],\n",
       "       [ 98, 233, 198, 210, 222, 229, 229, 234, 249, 220, 194, 215, 217,\n",
       "        241,  65,  73, 106, 117, 168, 219, 221, 215, 217, 223, 223, 224,\n",
       "        229,  29],\n",
       "       [ 75, 204, 212, 204, 193, 205, 211, 225, 216, 185, 197, 206, 198,\n",
       "        213, 240, 195, 227, 245, 239, 223, 218, 212, 209, 222, 220, 221,\n",
       "        230,  67],\n",
       "       [ 48, 203, 183, 194, 213, 197, 185, 190, 194, 192, 202, 214, 219,\n",
       "        221, 220, 236, 225, 216, 199, 206, 186, 181, 177, 172, 181, 205,\n",
       "        206, 115],\n",
       "       [  0, 122, 219, 193, 179, 171, 183, 196, 204, 210, 213, 207, 211,\n",
       "        210, 200, 196, 194, 191, 195, 191, 198, 192, 176, 156, 167, 177,\n",
       "        210,  92],\n",
       "       [  0,   0,  74, 189, 212, 191, 175, 172, 175, 181, 185, 188, 189,\n",
       "        188, 193, 198, 204, 209, 210, 210, 211, 188, 188, 194, 192, 216,\n",
       "        170,   0],\n",
       "       [  2,   0,   0,   0,  66, 200, 222, 237, 239, 242, 246, 243, 244,\n",
       "        221, 220, 193, 191, 179, 182, 182, 181, 176, 166, 168,  99,  58,\n",
       "          0,   0],\n",
       "       [  0,   0,   0,   0,   0,   0,   0,  40,  61,  44,  72,  41,  35,\n",
       "          0,   0,   0,   0,   0,   0,   0,   0,   0,   0,   0,   0,   0,\n",
       "          0,   0],\n",
       "       [  0,   0,   0,   0,   0,   0,   0,   0,   0,   0,   0,   0,   0,\n",
       "          0,   0,   0,   0,   0,   0,   0,   0,   0,   0,   0,   0,   0,\n",
       "          0,   0],\n",
       "       [  0,   0,   0,   0,   0,   0,   0,   0,   0,   0,   0,   0,   0,\n",
       "          0,   0,   0,   0,   0,   0,   0,   0,   0,   0,   0,   0,   0,\n",
       "          0,   0]], dtype=uint8)"
      ]
     },
     "execution_count": 5,
     "metadata": {},
     "output_type": "execute_result"
    }
   ],
   "source": [
    "train_images[0]"
   ]
  },
  {
   "cell_type": "code",
   "execution_count": 6,
   "id": "ae6a1cd1",
   "metadata": {},
   "outputs": [
    {
     "data": {
      "text/plain": [
       "array([9, 0, 0, ..., 3, 0, 5], dtype=uint8)"
      ]
     },
     "execution_count": 6,
     "metadata": {},
     "output_type": "execute_result"
    }
   ],
   "source": [
    "train_labels"
   ]
  },
  {
   "cell_type": "code",
   "execution_count": 7,
   "id": "6180e841",
   "metadata": {},
   "outputs": [
    {
     "data": {
      "image/png": "[encoded data removed]",
      "text/plain": [
       "<Figure size 432x288 with 1 Axes>"
      ]
     },
     "metadata": {},
     "output_type": "display_data"
    }
   ],
   "source": [
    "plt.imshow(train_images[0],cmap='gray_r')\n",
    "plt.title(train_labels[0])\n",
    "plt.xticks([])\n",
    "plt.yticks([])\n",
    "plt.show()"
   ]
  },
  {
   "cell_type": "code",
   "execution_count": 8,
   "id": "16baf783",
   "metadata": {},
   "outputs": [
    {
     "data": {
      "image/png": "[encoded data removed]",
      "text/plain": [
       "<Figure size 432x288 with 1 Axes>"
      ]
     },
     "metadata": {},
     "output_type": "display_data"
    }
   ],
   "source": [
    "plt.imshow(train_images[2],cmap='gray_r')\n",
    "plt.title(train_labels[2])\n",
    "plt.xticks([])\n",
    "plt.yticks([])\n",
    "plt.show()"
   ]
  },
  {
   "cell_type": "code",
   "execution_count": 9,
   "id": "f4d0da1f",
   "metadata": {},
   "outputs": [],
   "source": [
    "class_names = ['T-shirt/top', 'Trouser', 'Pullover', 'Dress', 'Coat', \n",
    "               'Sandal', 'Shirt', 'Sneaker', 'Bag', 'Ankle boot']"
   ]
  },
  {
   "cell_type": "code",
   "execution_count": 10,
   "id": "b178826a",
   "metadata": {},
   "outputs": [
    {
     "data": {
      "text/plain": [
       "['T-shirt/top',\n",
       " 'Trouser',\n",
       " 'Pullover',\n",
       " 'Dress',\n",
       " 'Coat',\n",
       " 'Sandal',\n",
       " 'Shirt',\n",
       " 'Sneaker',\n",
       " 'Bag',\n",
       " 'Ankle boot']"
      ]
     },
     "execution_count": 10,
     "metadata": {},
     "output_type": "execute_result"
    }
   ],
   "source": [
    "class_names"
   ]
  },
  {
   "cell_type": "code",
   "execution_count": 11,
   "id": "e308c1ea",
   "metadata": {},
   "outputs": [
    {
     "data": {
      "text/plain": [
       "'Ankle boot'"
      ]
     },
     "execution_count": 11,
     "metadata": {},
     "output_type": "execute_result"
    }
   ],
   "source": [
    "class_names[9]"
   ]
  },
  {
   "cell_type": "code",
   "execution_count": 12,
   "id": "9ab6c54a",
   "metadata": {},
   "outputs": [
    {
     "data": {
      "image/png": "[encoded data removed]",
      "text/plain": [
       "<Figure size 432x288 with 1 Axes>"
      ]
     },
     "metadata": {},
     "output_type": "display_data"
    }
   ],
   "source": [
    "plt.imshow(train_images[2],cmap='gray_r')\n",
    "plt.title(class_names[train_labels[2]])\n",
    "plt.xticks([])\n",
    "plt.yticks([])\n",
    "plt.show()"
   ]
  },
  {
   "cell_type": "code",
   "execution_count": 13,
   "id": "021eb764",
   "metadata": {},
   "outputs": [
    {
     "data": {
      "text/plain": [
       "0"
      ]
     },
     "execution_count": 13,
     "metadata": {},
     "output_type": "execute_result"
    }
   ],
   "source": [
    "train_labels[2]"
   ]
  },
  {
   "cell_type": "code",
   "execution_count": 14,
   "id": "6bf8c466",
   "metadata": {},
   "outputs": [
    {
     "data": {
      "text/plain": [
       "'T-shirt/top'"
      ]
     },
     "execution_count": 14,
     "metadata": {},
     "output_type": "execute_result"
    }
   ],
   "source": [
    "class_names[train_labels[2]]"
   ]
  },
  {
   "cell_type": "code",
   "execution_count": 15,
   "id": "f032409a",
   "metadata": {},
   "outputs": [
    {
     "data": {
      "image/png": "[encoded data removed]",
      "text/plain": [
       "<Figure size 720x720 with 25 Axes>"
      ]
     },
     "metadata": {},
     "output_type": "display_data"
    }
   ],
   "source": [
    "plt.figure(figsize=(10,10))\n",
    "for i in range(25):\n",
    "    plt.subplot(5,5,i+1)\n",
    "    plt.xticks([])\n",
    "    plt.yticks([])\n",
    "    plt.grid(False)\n",
    "    plt.imshow(train_images[i], cmap=plt.cm.binary)\n",
    "    plt.xlabel(class_names[train_labels[i]])\n",
    "plt.tight_layout()\n",
    "plt.show()"
   ]
  },
  {
   "cell_type": "code",
   "execution_count": 16,
   "id": "e98c31c2",
   "metadata": {},
   "outputs": [],
   "source": [
    "train_images = train_images / 255.0\n",
    "\n",
    "test_images = test_images / 255.0"
   ]
  },
  {
   "cell_type": "code",
   "execution_count": 17,
   "id": "9f63681d",
   "metadata": {},
   "outputs": [
    {
     "data": {
      "text/plain": [
       "array([[0.        , 0.        , 0.        , 0.        , 0.        ,\n",
       "        0.        , 0.        , 0.        , 0.        , 0.        ,\n",
       "        0.        , 0.        , 0.        , 0.        , 0.        ,\n",
       "        0.        , 0.        , 0.        , 0.        , 0.        ,\n",
       "        0.        , 0.        , 0.        , 0.        , 0.        ,\n",
       "        0.        , 0.        , 0.        ],\n",
       "       [0.        , 0.        , 0.        , 0.        , 0.        ,\n",
       "        0.        , 0.        , 0.        , 0.        , 0.        ,\n",
       "        0.        , 0.        , 0.        , 0.        , 0.        ,\n",
       "        0.        , 0.        , 0.        , 0.        , 0.        ,\n",
       "        0.        , 0.        , 0.        , 0.        , 0.        ,\n",
       "        0.        , 0.        , 0.        ],\n",
       "       [0.        , 0.        , 0.        , 0.        , 0.        ,\n",
       "        0.        , 0.        , 0.        , 0.        , 0.        ,\n",
       "        0.        , 0.        , 0.        , 0.        , 0.        ,\n",
       "        0.        , 0.        , 0.        , 0.        , 0.        ,\n",
       "        0.        , 0.        , 0.        , 0.        , 0.        ,\n",
       "        0.        , 0.        , 0.        ],\n",
       "       [0.        , 0.        , 0.        , 0.        , 0.        ,\n",
       "        0.        , 0.        , 0.        , 0.        , 0.        ,\n",
       "        0.        , 0.        , 0.00392157, 0.        , 0.        ,\n",
       "        0.05098039, 0.28627451, 0.        , 0.        , 0.00392157,\n",
       "        0.01568627, 0.        , 0.        , 0.        , 0.        ,\n",
       "        0.00392157, 0.00392157, 0.        ],\n",
       "       [0.        , 0.        , 0.        , 0.        , 0.        ,\n",
       "        0.        , 0.        , 0.        , 0.        , 0.        ,\n",
       "        0.        , 0.        , 0.01176471, 0.        , 0.14117647,\n",
       "        0.53333333, 0.49803922, 0.24313725, 0.21176471, 0.        ,\n",
       "        0.        , 0.        , 0.00392157, 0.01176471, 0.01568627,\n",
       "        0.        , 0.        , 0.01176471],\n",
       "       [0.        , 0.        , 0.        , 0.        , 0.        ,\n",
       "        0.        , 0.        , 0.        , 0.        , 0.        ,\n",
       "        0.        , 0.        , 0.02352941, 0.        , 0.4       ,\n",
       "        0.8       , 0.69019608, 0.5254902 , 0.56470588, 0.48235294,\n",
       "        0.09019608, 0.        , 0.        , 0.        , 0.        ,\n",
       "        0.04705882, 0.03921569, 0.        ],\n",
       "       [0.        , 0.        , 0.        , 0.        , 0.        ,\n",
       "        0.        , 0.        , 0.        , 0.        , 0.        ,\n",
       "        0.        , 0.        , 0.        , 0.        , 0.60784314,\n",
       "        0.9254902 , 0.81176471, 0.69803922, 0.41960784, 0.61176471,\n",
       "        0.63137255, 0.42745098, 0.25098039, 0.09019608, 0.30196078,\n",
       "        0.50980392, 0.28235294, 0.05882353],\n",
       "       [0.        , 0.        , 0.        , 0.        , 0.        ,\n",
       "        0.        , 0.        , 0.        , 0.        , 0.        ,\n",
       "        0.        , 0.00392157, 0.        , 0.27058824, 0.81176471,\n",
       "        0.8745098 , 0.85490196, 0.84705882, 0.84705882, 0.63921569,\n",
       "        0.49803922, 0.4745098 , 0.47843137, 0.57254902, 0.55294118,\n",
       "        0.34509804, 0.6745098 , 0.25882353],\n",
       "       [0.        , 0.        , 0.        , 0.        , 0.        ,\n",
       "        0.        , 0.        , 0.        , 0.        , 0.00392157,\n",
       "        0.00392157, 0.00392157, 0.        , 0.78431373, 0.90980392,\n",
       "        0.90980392, 0.91372549, 0.89803922, 0.8745098 , 0.8745098 ,\n",
       "        0.84313725, 0.83529412, 0.64313725, 0.49803922, 0.48235294,\n",
       "        0.76862745, 0.89803922, 0.        ],\n",
       "       [0.        , 0.        , 0.        , 0.        , 0.        ,\n",
       "        0.        , 0.        , 0.        , 0.        , 0.        ,\n",
       "        0.        , 0.        , 0.        , 0.71764706, 0.88235294,\n",
       "        0.84705882, 0.8745098 , 0.89411765, 0.92156863, 0.89019608,\n",
       "        0.87843137, 0.87058824, 0.87843137, 0.86666667, 0.8745098 ,\n",
       "        0.96078431, 0.67843137, 0.        ],\n",
       "       [0.        , 0.        , 0.        , 0.        , 0.        ,\n",
       "        0.        , 0.        , 0.        , 0.        , 0.        ,\n",
       "        0.        , 0.        , 0.        , 0.75686275, 0.89411765,\n",
       "        0.85490196, 0.83529412, 0.77647059, 0.70588235, 0.83137255,\n",
       "        0.82352941, 0.82745098, 0.83529412, 0.8745098 , 0.8627451 ,\n",
       "        0.95294118, 0.79215686, 0.        ],\n",
       "       [0.        , 0.        , 0.        , 0.        , 0.        ,\n",
       "        0.        , 0.        , 0.        , 0.        , 0.00392157,\n",
       "        0.01176471, 0.        , 0.04705882, 0.85882353, 0.8627451 ,\n",
       "        0.83137255, 0.85490196, 0.75294118, 0.6627451 , 0.89019608,\n",
       "        0.81568627, 0.85490196, 0.87843137, 0.83137255, 0.88627451,\n",
       "        0.77254902, 0.81960784, 0.20392157],\n",
       "       [0.        , 0.        , 0.        , 0.        , 0.        ,\n",
       "        0.        , 0.        , 0.        , 0.        , 0.        ,\n",
       "        0.02352941, 0.        , 0.38823529, 0.95686275, 0.87058824,\n",
       "        0.8627451 , 0.85490196, 0.79607843, 0.77647059, 0.86666667,\n",
       "        0.84313725, 0.83529412, 0.87058824, 0.8627451 , 0.96078431,\n",
       "        0.46666667, 0.65490196, 0.21960784],\n",
       "       [0.        , 0.        , 0.        , 0.        , 0.        ,\n",
       "        0.        , 0.        , 0.        , 0.        , 0.01568627,\n",
       "        0.        , 0.        , 0.21568627, 0.9254902 , 0.89411765,\n",
       "        0.90196078, 0.89411765, 0.94117647, 0.90980392, 0.83529412,\n",
       "        0.85490196, 0.8745098 , 0.91764706, 0.85098039, 0.85098039,\n",
       "        0.81960784, 0.36078431, 0.        ],\n",
       "       [0.        , 0.        , 0.00392157, 0.01568627, 0.02352941,\n",
       "        0.02745098, 0.00784314, 0.        , 0.        , 0.        ,\n",
       "        0.        , 0.        , 0.92941176, 0.88627451, 0.85098039,\n",
       "        0.8745098 , 0.87058824, 0.85882353, 0.87058824, 0.86666667,\n",
       "        0.84705882, 0.8745098 , 0.89803922, 0.84313725, 0.85490196,\n",
       "        1.        , 0.30196078, 0.        ],\n",
       "       [0.        , 0.01176471, 0.        , 0.        , 0.        ,\n",
       "        0.        , 0.        , 0.        , 0.        , 0.24313725,\n",
       "        0.56862745, 0.8       , 0.89411765, 0.81176471, 0.83529412,\n",
       "        0.86666667, 0.85490196, 0.81568627, 0.82745098, 0.85490196,\n",
       "        0.87843137, 0.8745098 , 0.85882353, 0.84313725, 0.87843137,\n",
       "        0.95686275, 0.62352941, 0.        ],\n",
       "       [0.        , 0.        , 0.        , 0.        , 0.07058824,\n",
       "        0.17254902, 0.32156863, 0.41960784, 0.74117647, 0.89411765,\n",
       "        0.8627451 , 0.87058824, 0.85098039, 0.88627451, 0.78431373,\n",
       "        0.80392157, 0.82745098, 0.90196078, 0.87843137, 0.91764706,\n",
       "        0.69019608, 0.7372549 , 0.98039216, 0.97254902, 0.91372549,\n",
       "        0.93333333, 0.84313725, 0.        ],\n",
       "       [0.        , 0.22352941, 0.73333333, 0.81568627, 0.87843137,\n",
       "        0.86666667, 0.87843137, 0.81568627, 0.8       , 0.83921569,\n",
       "        0.81568627, 0.81960784, 0.78431373, 0.62352941, 0.96078431,\n",
       "        0.75686275, 0.80784314, 0.8745098 , 1.        , 1.        ,\n",
       "        0.86666667, 0.91764706, 0.86666667, 0.82745098, 0.8627451 ,\n",
       "        0.90980392, 0.96470588, 0.        ],\n",
       "       [0.01176471, 0.79215686, 0.89411765, 0.87843137, 0.86666667,\n",
       "        0.82745098, 0.82745098, 0.83921569, 0.80392157, 0.80392157,\n",
       "        0.80392157, 0.8627451 , 0.94117647, 0.31372549, 0.58823529,\n",
       "        1.        , 0.89803922, 0.86666667, 0.7372549 , 0.60392157,\n",
       "        0.74901961, 0.82352941, 0.8       , 0.81960784, 0.87058824,\n",
       "        0.89411765, 0.88235294, 0.        ],\n",
       "       [0.38431373, 0.91372549, 0.77647059, 0.82352941, 0.87058824,\n",
       "        0.89803922, 0.89803922, 0.91764706, 0.97647059, 0.8627451 ,\n",
       "        0.76078431, 0.84313725, 0.85098039, 0.94509804, 0.25490196,\n",
       "        0.28627451, 0.41568627, 0.45882353, 0.65882353, 0.85882353,\n",
       "        0.86666667, 0.84313725, 0.85098039, 0.8745098 , 0.8745098 ,\n",
       "        0.87843137, 0.89803922, 0.11372549],\n",
       "       [0.29411765, 0.8       , 0.83137255, 0.8       , 0.75686275,\n",
       "        0.80392157, 0.82745098, 0.88235294, 0.84705882, 0.7254902 ,\n",
       "        0.77254902, 0.80784314, 0.77647059, 0.83529412, 0.94117647,\n",
       "        0.76470588, 0.89019608, 0.96078431, 0.9372549 , 0.8745098 ,\n",
       "        0.85490196, 0.83137255, 0.81960784, 0.87058824, 0.8627451 ,\n",
       "        0.86666667, 0.90196078, 0.2627451 ],\n",
       "       [0.18823529, 0.79607843, 0.71764706, 0.76078431, 0.83529412,\n",
       "        0.77254902, 0.7254902 , 0.74509804, 0.76078431, 0.75294118,\n",
       "        0.79215686, 0.83921569, 0.85882353, 0.86666667, 0.8627451 ,\n",
       "        0.9254902 , 0.88235294, 0.84705882, 0.78039216, 0.80784314,\n",
       "        0.72941176, 0.70980392, 0.69411765, 0.6745098 , 0.70980392,\n",
       "        0.80392157, 0.80784314, 0.45098039],\n",
       "       [0.        , 0.47843137, 0.85882353, 0.75686275, 0.70196078,\n",
       "        0.67058824, 0.71764706, 0.76862745, 0.8       , 0.82352941,\n",
       "        0.83529412, 0.81176471, 0.82745098, 0.82352941, 0.78431373,\n",
       "        0.76862745, 0.76078431, 0.74901961, 0.76470588, 0.74901961,\n",
       "        0.77647059, 0.75294118, 0.69019608, 0.61176471, 0.65490196,\n",
       "        0.69411765, 0.82352941, 0.36078431],\n",
       "       [0.        , 0.        , 0.29019608, 0.74117647, 0.83137255,\n",
       "        0.74901961, 0.68627451, 0.6745098 , 0.68627451, 0.70980392,\n",
       "        0.7254902 , 0.7372549 , 0.74117647, 0.7372549 , 0.75686275,\n",
       "        0.77647059, 0.8       , 0.81960784, 0.82352941, 0.82352941,\n",
       "        0.82745098, 0.7372549 , 0.7372549 , 0.76078431, 0.75294118,\n",
       "        0.84705882, 0.66666667, 0.        ],\n",
       "       [0.00784314, 0.        , 0.        , 0.        , 0.25882353,\n",
       "        0.78431373, 0.87058824, 0.92941176, 0.9372549 , 0.94901961,\n",
       "        0.96470588, 0.95294118, 0.95686275, 0.86666667, 0.8627451 ,\n",
       "        0.75686275, 0.74901961, 0.70196078, 0.71372549, 0.71372549,\n",
       "        0.70980392, 0.69019608, 0.65098039, 0.65882353, 0.38823529,\n",
       "        0.22745098, 0.        , 0.        ],\n",
       "       [0.        , 0.        , 0.        , 0.        , 0.        ,\n",
       "        0.        , 0.        , 0.15686275, 0.23921569, 0.17254902,\n",
       "        0.28235294, 0.16078431, 0.1372549 , 0.        , 0.        ,\n",
       "        0.        , 0.        , 0.        , 0.        , 0.        ,\n",
       "        0.        , 0.        , 0.        , 0.        , 0.        ,\n",
       "        0.        , 0.        , 0.        ],\n",
       "       [0.        , 0.        , 0.        , 0.        , 0.        ,\n",
       "        0.        , 0.        , 0.        , 0.        , 0.        ,\n",
       "        0.        , 0.        , 0.        , 0.        , 0.        ,\n",
       "        0.        , 0.        , 0.        , 0.        , 0.        ,\n",
       "        0.        , 0.        , 0.        , 0.        , 0.        ,\n",
       "        0.        , 0.        , 0.        ],\n",
       "       [0.        , 0.        , 0.        , 0.        , 0.        ,\n",
       "        0.        , 0.        , 0.        , 0.        , 0.        ,\n",
       "        0.        , 0.        , 0.        , 0.        , 0.        ,\n",
       "        0.        , 0.        , 0.        , 0.        , 0.        ,\n",
       "        0.        , 0.        , 0.        , 0.        , 0.        ,\n",
       "        0.        , 0.        , 0.        ]])"
      ]
     },
     "execution_count": 17,
     "metadata": {},
     "output_type": "execute_result"
    }
   ],
   "source": [
    "train_images[0]"
   ]
  },
  {
   "cell_type": "code",
   "execution_count": 18,
   "id": "0ceefcc9",
   "metadata": {},
   "outputs": [],
   "source": [
    "model = keras.Sequential([\n",
    "    keras.layers.Flatten(input_shape=(28,28)),\n",
    "    keras.layers.Dense(512, activation='relu'),\n",
    "    keras.layers.Dense(10,'softmax')\n",
    "])"
   ]
  },
  {
   "cell_type": "code",
   "execution_count": 19,
   "id": "fcc2490f",
   "metadata": {},
   "outputs": [
    {
     "name": "stdout",
     "output_type": "stream",
     "text": [
      "Model: \"sequential\"\n",
      "_________________________________________________________________\n",
      "Layer (type)                 Output Shape              Param #   \n",
      "=================================================================\n",
      "flatten (Flatten)            (None, 784)               0         \n",
      "_________________________________________________________________\n",
      "dense (Dense)                (None, 512)               401920    \n",
      "_________________________________________________________________\n",
      "dense_1 (Dense)              (None, 10)                5130      \n",
      "=================================================================\n",
      "Total params: 407,050\n",
      "Trainable params: 407,050\n",
      "Non-trainable params: 0\n",
      "_________________________________________________________________\n"
     ]
    }
   ],
   "source": [
    "model.summary()"
   ]
  },
  {
   "cell_type": "code",
   "execution_count": 20,
   "id": "d49ccc5d",
   "metadata": {},
   "outputs": [],
   "source": [
    "model.compile(optimizer='adam',loss='sparse_categorical_crossentropy',metrics=['accuracy'])"
   ]
  },
  {
   "cell_type": "code",
   "execution_count": 21,
   "id": "9f8b78a9",
   "metadata": {},
   "outputs": [
    {
     "name": "stdout",
     "output_type": "stream",
     "text": [
      "Epoch 1/50\n",
      "1500/1500 [==============================] - 14s 8ms/step - loss: 0.4987 - accuracy: 0.8227 - val_loss: 0.4347 - val_accuracy: 0.8378\n",
      "Epoch 2/50\n",
      "1500/1500 [==============================] - 13s 9ms/step - loss: 0.3696 - accuracy: 0.8649 - val_loss: 0.3634 - val_accuracy: 0.8668\n",
      "Epoch 3/50\n",
      "1500/1500 [==============================] - 16s 11ms/step - loss: 0.3306 - accuracy: 0.8787 - val_loss: 0.3332 - val_accuracy: 0.8804\n",
      "Epoch 4/50\n",
      "1500/1500 [==============================] - 12s 8ms/step - loss: 0.3052 - accuracy: 0.8874 - val_loss: 0.3396 - val_accuracy: 0.8765\n",
      "Epoch 5/50\n",
      "1500/1500 [==============================] - 11s 8ms/step - loss: 0.2840 - accuracy: 0.8942 - val_loss: 0.3244 - val_accuracy: 0.8839\n",
      "Epoch 6/50\n",
      "1500/1500 [==============================] - 11s 7ms/step - loss: 0.2721 - accuracy: 0.8990 - val_loss: 0.3198 - val_accuracy: 0.8864\n",
      "Epoch 7/50\n",
      "1500/1500 [==============================] - 11s 7ms/step - loss: 0.2575 - accuracy: 0.9043 - val_loss: 0.3117 - val_accuracy: 0.8878\n",
      "Epoch 8/50\n",
      "1500/1500 [==============================] - 11s 7ms/step - loss: 0.2451 - accuracy: 0.9081 - val_loss: 0.3341 - val_accuracy: 0.8822\n",
      "Epoch 9/50\n",
      "1500/1500 [==============================] - 11s 7ms/step - loss: 0.2337 - accuracy: 0.9133 - val_loss: 0.3035 - val_accuracy: 0.8939\n",
      "Epoch 10/50\n",
      "1500/1500 [==============================] - 11s 7ms/step - loss: 0.2240 - accuracy: 0.9153 - val_loss: 0.3080 - val_accuracy: 0.8921\n",
      "Epoch 11/50\n",
      "1500/1500 [==============================] - 11s 8ms/step - loss: 0.2152 - accuracy: 0.9193 - val_loss: 0.3304 - val_accuracy: 0.8903\n",
      "Epoch 12/50\n",
      "1500/1500 [==============================] - 11s 7ms/step - loss: 0.2077 - accuracy: 0.9215 - val_loss: 0.3506 - val_accuracy: 0.8851\n",
      "Epoch 13/50\n",
      "1500/1500 [==============================] - 11s 7ms/step - loss: 0.2005 - accuracy: 0.9256 - val_loss: 0.3271 - val_accuracy: 0.8913\n",
      "Epoch 14/50\n",
      "1500/1500 [==============================] - 11s 7ms/step - loss: 0.1892 - accuracy: 0.9296 - val_loss: 0.3733 - val_accuracy: 0.8774\n",
      "Epoch 15/50\n",
      "1500/1500 [==============================] - 11s 7ms/step - loss: 0.1855 - accuracy: 0.9293 - val_loss: 0.3226 - val_accuracy: 0.8932\n",
      "Epoch 16/50\n",
      "1500/1500 [==============================] - 11s 7ms/step - loss: 0.1770 - accuracy: 0.9332 - val_loss: 0.3441 - val_accuracy: 0.8902\n",
      "Epoch 17/50\n",
      "1500/1500 [==============================] - 11s 7ms/step - loss: 0.1696 - accuracy: 0.9361 - val_loss: 0.3380 - val_accuracy: 0.8946\n",
      "Epoch 18/50\n",
      "1500/1500 [==============================] - 11s 7ms/step - loss: 0.1678 - accuracy: 0.9365 - val_loss: 0.3829 - val_accuracy: 0.8844\n",
      "Epoch 19/50\n",
      "1500/1500 [==============================] - 11s 7ms/step - loss: 0.1619 - accuracy: 0.9389 - val_loss: 0.3521 - val_accuracy: 0.8917\n",
      "Epoch 20/50\n",
      "1500/1500 [==============================] - 11s 7ms/step - loss: 0.1576 - accuracy: 0.9404 - val_loss: 0.3883 - val_accuracy: 0.8849\n",
      "Epoch 21/50\n",
      "1500/1500 [==============================] - 11s 7ms/step - loss: 0.1506 - accuracy: 0.9431 - val_loss: 0.3404 - val_accuracy: 0.8947\n",
      "Epoch 22/50\n",
      "1500/1500 [==============================] - 11s 7ms/step - loss: 0.1465 - accuracy: 0.9434 - val_loss: 0.3654 - val_accuracy: 0.8917\n",
      "Epoch 23/50\n",
      "1500/1500 [==============================] - 11s 7ms/step - loss: 0.1424 - accuracy: 0.9470 - val_loss: 0.4027 - val_accuracy: 0.8863\n",
      "Epoch 24/50\n",
      "1500/1500 [==============================] - 11s 7ms/step - loss: 0.1394 - accuracy: 0.9472 - val_loss: 0.3979 - val_accuracy: 0.8912\n",
      "Epoch 25/50\n",
      "1500/1500 [==============================] - 11s 7ms/step - loss: 0.1336 - accuracy: 0.9499 - val_loss: 0.3908 - val_accuracy: 0.8941\n",
      "Epoch 26/50\n",
      "1500/1500 [==============================] - 11s 7ms/step - loss: 0.1317 - accuracy: 0.9510 - val_loss: 0.3874 - val_accuracy: 0.8905\n",
      "Epoch 27/50\n",
      "1500/1500 [==============================] - 11s 7ms/step - loss: 0.1265 - accuracy: 0.9520 - val_loss: 0.3874 - val_accuracy: 0.8919\n",
      "Epoch 28/50\n",
      "1500/1500 [==============================] - 11s 7ms/step - loss: 0.1238 - accuracy: 0.9532 - val_loss: 0.4136 - val_accuracy: 0.8889\n",
      "Epoch 29/50\n",
      "1500/1500 [==============================] - 11s 7ms/step - loss: 0.1187 - accuracy: 0.9553 - val_loss: 0.4404 - val_accuracy: 0.8923\n",
      "Epoch 30/50\n",
      "1500/1500 [==============================] - 11s 8ms/step - loss: 0.1192 - accuracy: 0.9549 - val_loss: 0.4343 - val_accuracy: 0.8867\n",
      "Epoch 31/50\n",
      "1500/1500 [==============================] - 11s 7ms/step - loss: 0.1139 - accuracy: 0.9563 - val_loss: 0.4101 - val_accuracy: 0.8938\n",
      "Epoch 32/50\n",
      "1500/1500 [==============================] - 11s 7ms/step - loss: 0.1120 - accuracy: 0.9589 - val_loss: 0.4259 - val_accuracy: 0.8902\n",
      "Epoch 33/50\n",
      "1500/1500 [==============================] - 11s 7ms/step - loss: 0.1086 - accuracy: 0.9597 - val_loss: 0.4309 - val_accuracy: 0.8891\n",
      "Epoch 34/50\n",
      "1500/1500 [==============================] - 11s 7ms/step - loss: 0.1052 - accuracy: 0.9597 - val_loss: 0.4431 - val_accuracy: 0.8928\n",
      "Epoch 35/50\n",
      "1500/1500 [==============================] - 11s 7ms/step - loss: 0.1047 - accuracy: 0.9619 - val_loss: 0.4306 - val_accuracy: 0.8967\n",
      "Epoch 36/50\n",
      "1500/1500 [==============================] - 11s 7ms/step - loss: 0.1011 - accuracy: 0.9627 - val_loss: 0.4802 - val_accuracy: 0.8891\n",
      "Epoch 37/50\n",
      "1500/1500 [==============================] - 11s 7ms/step - loss: 0.0968 - accuracy: 0.9633 - val_loss: 0.4927 - val_accuracy: 0.8934\n",
      "Epoch 38/50\n",
      "1500/1500 [==============================] - 12s 8ms/step - loss: 0.0999 - accuracy: 0.9624 - val_loss: 0.4612 - val_accuracy: 0.8928\n",
      "Epoch 39/50\n",
      "1500/1500 [==============================] - 11s 7ms/step - loss: 0.0924 - accuracy: 0.9646 - val_loss: 0.4782 - val_accuracy: 0.8928\n",
      "Epoch 40/50\n",
      "1500/1500 [==============================] - 11s 7ms/step - loss: 0.0897 - accuracy: 0.9667 - val_loss: 0.4994 - val_accuracy: 0.8925\n",
      "Epoch 41/50\n",
      "1500/1500 [==============================] - 11s 7ms/step - loss: 0.0892 - accuracy: 0.9672 - val_loss: 0.4628 - val_accuracy: 0.8968\n",
      "Epoch 42/50\n",
      "1500/1500 [==============================] - 11s 7ms/step - loss: 0.0898 - accuracy: 0.9652 - val_loss: 0.4920 - val_accuracy: 0.8920\n",
      "Epoch 43/50\n",
      "1500/1500 [==============================] - 11s 7ms/step - loss: 0.0856 - accuracy: 0.9681 - val_loss: 0.4736 - val_accuracy: 0.8970\n",
      "Epoch 44/50\n",
      "1500/1500 [==============================] - 11s 7ms/step - loss: 0.0827 - accuracy: 0.9683 - val_loss: 0.5081 - val_accuracy: 0.8957\n",
      "Epoch 45/50\n",
      "1500/1500 [==============================] - 11s 7ms/step - loss: 0.0816 - accuracy: 0.9699 - val_loss: 0.4810 - val_accuracy: 0.8946\n",
      "Epoch 46/50\n",
      "1500/1500 [==============================] - 11s 7ms/step - loss: 0.0802 - accuracy: 0.9701 - val_loss: 0.5056 - val_accuracy: 0.8917\n",
      "Epoch 47/50\n",
      "1500/1500 [==============================] - 11s 7ms/step - loss: 0.0784 - accuracy: 0.9713 - val_loss: 0.5316 - val_accuracy: 0.8952\n",
      "Epoch 48/50\n",
      "1500/1500 [==============================] - 11s 7ms/step - loss: 0.0779 - accuracy: 0.9714 - val_loss: 0.5238 - val_accuracy: 0.8950\n",
      "Epoch 49/50\n",
      "1500/1500 [==============================] - 11s 7ms/step - loss: 0.0775 - accuracy: 0.9709 - val_loss: 0.5117 - val_accuracy: 0.8957\n",
      "Epoch 50/50\n",
      "1500/1500 [==============================] - 11s 7ms/step - loss: 0.0709 - accuracy: 0.9734 - val_loss: 0.5295 - val_accuracy: 0.8947\n"
     ]
    }
   ],
   "source": [
    "history = model.fit(train_images, train_labels,validation_split=0.2, epochs=50,verbose=1)"
   ]
  },
  {
   "cell_type": "code",
   "execution_count": 22,
   "id": "f5e6f5a7",
   "metadata": {},
   "outputs": [
    {
     "data": {
      "text/plain": [
       "{'loss': [0.4986981749534607,\n",
       "  0.36962181329727173,\n",
       "  0.33063748478889465,\n",
       "  0.3052012622356415,\n",
       "  0.28395897150039673,\n",
       "  0.27205193042755127,\n",
       "  0.2574706971645355,\n",
       "  0.2450733780860901,\n",
       "  0.23365750908851624,\n",
       "  0.22402073442935944,\n",
       "  0.21518190205097198,\n",
       "  0.2076580971479416,\n",
       "  0.2005414217710495,\n",
       "  0.1891546994447708,\n",
       "  0.18549974262714386,\n",
       "  0.1770263910293579,\n",
       "  0.16963200271129608,\n",
       "  0.16781169176101685,\n",
       "  0.16185890138149261,\n",
       "  0.1575527787208557,\n",
       "  0.15062247216701508,\n",
       "  0.14653927087783813,\n",
       "  0.14242254197597504,\n",
       "  0.13943764567375183,\n",
       "  0.13355188071727753,\n",
       "  0.13170737028121948,\n",
       "  0.1264694184064865,\n",
       "  0.1237778514623642,\n",
       "  0.1186983734369278,\n",
       "  0.11923882365226746,\n",
       "  0.11385615915060043,\n",
       "  0.11199184507131577,\n",
       "  0.10862244665622711,\n",
       "  0.10519447177648544,\n",
       "  0.10465315729379654,\n",
       "  0.10106704384088516,\n",
       "  0.09678438305854797,\n",
       "  0.09994914382696152,\n",
       "  0.09236407279968262,\n",
       "  0.089681476354599,\n",
       "  0.08920126408338547,\n",
       "  0.08983217179775238,\n",
       "  0.08562794327735901,\n",
       "  0.08271279186010361,\n",
       "  0.08159542083740234,\n",
       "  0.08024284988641739,\n",
       "  0.07837765663862228,\n",
       "  0.07788122445344925,\n",
       "  0.07745621353387833,\n",
       "  0.07087642699480057],\n",
       " 'accuracy': [0.8227083086967468,\n",
       "  0.8648541569709778,\n",
       "  0.8786666393280029,\n",
       "  0.887374997138977,\n",
       "  0.8941666483879089,\n",
       "  0.8989791870117188,\n",
       "  0.9043333530426025,\n",
       "  0.9081249833106995,\n",
       "  0.9133333563804626,\n",
       "  0.9152500033378601,\n",
       "  0.9193333387374878,\n",
       "  0.921500027179718,\n",
       "  0.9255833625793457,\n",
       "  0.929604172706604,\n",
       "  0.9292916655540466,\n",
       "  0.9332083463668823,\n",
       "  0.9361249804496765,\n",
       "  0.9365416765213013,\n",
       "  0.9388750195503235,\n",
       "  0.9403958320617676,\n",
       "  0.9431041479110718,\n",
       "  0.9434375166893005,\n",
       "  0.9470000267028809,\n",
       "  0.9472083449363708,\n",
       "  0.949916660785675,\n",
       "  0.9510208368301392,\n",
       "  0.9520000219345093,\n",
       "  0.953166663646698,\n",
       "  0.9552708268165588,\n",
       "  0.9548749923706055,\n",
       "  0.956333339214325,\n",
       "  0.9589166641235352,\n",
       "  0.9596874713897705,\n",
       "  0.9596874713897705,\n",
       "  0.9618541598320007,\n",
       "  0.9626666903495789,\n",
       "  0.9633125066757202,\n",
       "  0.9623958468437195,\n",
       "  0.9645624756813049,\n",
       "  0.9667083621025085,\n",
       "  0.9672499895095825,\n",
       "  0.9652291536331177,\n",
       "  0.9681458473205566,\n",
       "  0.9683333039283752,\n",
       "  0.9698958396911621,\n",
       "  0.9701041579246521,\n",
       "  0.9712916612625122,\n",
       "  0.9713541865348816,\n",
       "  0.9709374904632568,\n",
       "  0.9734166860580444],\n",
       " 'val_loss': [0.43472787737846375,\n",
       "  0.3633912205696106,\n",
       "  0.33315226435661316,\n",
       "  0.33961382508277893,\n",
       "  0.3243599236011505,\n",
       "  0.31976431608200073,\n",
       "  0.311708003282547,\n",
       "  0.3341248035430908,\n",
       "  0.3035416305065155,\n",
       "  0.30796483159065247,\n",
       "  0.3304402530193329,\n",
       "  0.3506324887275696,\n",
       "  0.32714495062828064,\n",
       "  0.3733399510383606,\n",
       "  0.3226311206817627,\n",
       "  0.344056636095047,\n",
       "  0.33797961473464966,\n",
       "  0.38292843103408813,\n",
       "  0.35207730531692505,\n",
       "  0.3882933259010315,\n",
       "  0.34039053320884705,\n",
       "  0.3653680086135864,\n",
       "  0.4026603698730469,\n",
       "  0.3979133367538452,\n",
       "  0.39077383279800415,\n",
       "  0.3874070644378662,\n",
       "  0.38737183809280396,\n",
       "  0.4136185348033905,\n",
       "  0.4403669834136963,\n",
       "  0.43426159024238586,\n",
       "  0.4101046919822693,\n",
       "  0.4258864223957062,\n",
       "  0.43087825179100037,\n",
       "  0.4431295692920685,\n",
       "  0.43058621883392334,\n",
       "  0.4802100360393524,\n",
       "  0.49265363812446594,\n",
       "  0.4611666202545166,\n",
       "  0.4781571924686432,\n",
       "  0.4993700683116913,\n",
       "  0.46275797486305237,\n",
       "  0.4920247495174408,\n",
       "  0.4735527038574219,\n",
       "  0.5081155896186829,\n",
       "  0.4810228645801544,\n",
       "  0.5055596232414246,\n",
       "  0.531557559967041,\n",
       "  0.5237783193588257,\n",
       "  0.5116597414016724,\n",
       "  0.5295447707176208],\n",
       " 'val_accuracy': [0.8378333449363708,\n",
       "  0.8668333292007446,\n",
       "  0.8804166913032532,\n",
       "  0.8765000104904175,\n",
       "  0.8839166760444641,\n",
       "  0.8864166736602783,\n",
       "  0.8877500295639038,\n",
       "  0.8821666836738586,\n",
       "  0.893916666507721,\n",
       "  0.8920833468437195,\n",
       "  0.890333354473114,\n",
       "  0.8850833177566528,\n",
       "  0.8912500143051147,\n",
       "  0.8774166703224182,\n",
       "  0.8932499885559082,\n",
       "  0.8901666402816772,\n",
       "  0.8945833444595337,\n",
       "  0.8844166398048401,\n",
       "  0.8917499780654907,\n",
       "  0.8849166631698608,\n",
       "  0.8946666717529297,\n",
       "  0.8916666507720947,\n",
       "  0.8862500190734863,\n",
       "  0.8911666870117188,\n",
       "  0.8940833210945129,\n",
       "  0.890500009059906,\n",
       "  0.8919166922569275,\n",
       "  0.8889166712760925,\n",
       "  0.8923333287239075,\n",
       "  0.8866666555404663,\n",
       "  0.893750011920929,\n",
       "  0.8901666402816772,\n",
       "  0.8890833258628845,\n",
       "  0.8928333520889282,\n",
       "  0.8966666460037231,\n",
       "  0.8890833258628845,\n",
       "  0.8934166431427002,\n",
       "  0.8928333520889282,\n",
       "  0.8927500247955322,\n",
       "  0.8924999833106995,\n",
       "  0.8968333601951599,\n",
       "  0.8920000195503235,\n",
       "  0.8970000147819519,\n",
       "  0.8957499861717224,\n",
       "  0.8945833444595337,\n",
       "  0.8917499780654907,\n",
       "  0.8951666951179504,\n",
       "  0.8949999809265137,\n",
       "  0.8957499861717224,\n",
       "  0.8946666717529297]}"
      ]
     },
     "execution_count": 22,
     "metadata": {},
     "output_type": "execute_result"
    }
   ],
   "source": [
    "history.history"
   ]
  },
  {
   "cell_type": "code",
   "execution_count": 23,
   "id": "d9576968",
   "metadata": {},
   "outputs": [
    {
     "data": {
      "text/plain": [
       "[0.4986981749534607,\n",
       " 0.36962181329727173,\n",
       " 0.33063748478889465,\n",
       " 0.3052012622356415,\n",
       " 0.28395897150039673,\n",
       " 0.27205193042755127,\n",
       " 0.2574706971645355,\n",
       " 0.2450733780860901,\n",
       " 0.23365750908851624,\n",
       " 0.22402073442935944,\n",
       " 0.21518190205097198,\n",
       " 0.2076580971479416,\n",
       " 0.2005414217710495,\n",
       " 0.1891546994447708,\n",
       " 0.18549974262714386,\n",
       " 0.1770263910293579,\n",
       " 0.16963200271129608,\n",
       " 0.16781169176101685,\n",
       " 0.16185890138149261,\n",
       " 0.1575527787208557,\n",
       " 0.15062247216701508,\n",
       " 0.14653927087783813,\n",
       " 0.14242254197597504,\n",
       " 0.13943764567375183,\n",
       " 0.13355188071727753,\n",
       " 0.13170737028121948,\n",
       " 0.1264694184064865,\n",
       " 0.1237778514623642,\n",
       " 0.1186983734369278,\n",
       " 0.11923882365226746,\n",
       " 0.11385615915060043,\n",
       " 0.11199184507131577,\n",
       " 0.10862244665622711,\n",
       " 0.10519447177648544,\n",
       " 0.10465315729379654,\n",
       " 0.10106704384088516,\n",
       " 0.09678438305854797,\n",
       " 0.09994914382696152,\n",
       " 0.09236407279968262,\n",
       " 0.089681476354599,\n",
       " 0.08920126408338547,\n",
       " 0.08983217179775238,\n",
       " 0.08562794327735901,\n",
       " 0.08271279186010361,\n",
       " 0.08159542083740234,\n",
       " 0.08024284988641739,\n",
       " 0.07837765663862228,\n",
       " 0.07788122445344925,\n",
       " 0.07745621353387833,\n",
       " 0.07087642699480057]"
      ]
     },
     "execution_count": 23,
     "metadata": {},
     "output_type": "execute_result"
    }
   ],
   "source": [
    "history.history['loss']"
   ]
  },
  {
   "cell_type": "code",
   "execution_count": 24,
   "id": "e026736b",
   "metadata": {},
   "outputs": [
    {
     "data": {
      "text/plain": [
       "[0.43472787737846375,\n",
       " 0.3633912205696106,\n",
       " 0.33315226435661316,\n",
       " 0.33961382508277893,\n",
       " 0.3243599236011505,\n",
       " 0.31976431608200073,\n",
       " 0.311708003282547,\n",
       " 0.3341248035430908,\n",
       " 0.3035416305065155,\n",
       " 0.30796483159065247,\n",
       " 0.3304402530193329,\n",
       " 0.3506324887275696,\n",
       " 0.32714495062828064,\n",
       " 0.3733399510383606,\n",
       " 0.3226311206817627,\n",
       " 0.344056636095047,\n",
       " 0.33797961473464966,\n",
       " 0.38292843103408813,\n",
       " 0.35207730531692505,\n",
       " 0.3882933259010315,\n",
       " 0.34039053320884705,\n",
       " 0.3653680086135864,\n",
       " 0.4026603698730469,\n",
       " 0.3979133367538452,\n",
       " 0.39077383279800415,\n",
       " 0.3874070644378662,\n",
       " 0.38737183809280396,\n",
       " 0.4136185348033905,\n",
       " 0.4403669834136963,\n",
       " 0.43426159024238586,\n",
       " 0.4101046919822693,\n",
       " 0.4258864223957062,\n",
       " 0.43087825179100037,\n",
       " 0.4431295692920685,\n",
       " 0.43058621883392334,\n",
       " 0.4802100360393524,\n",
       " 0.49265363812446594,\n",
       " 0.4611666202545166,\n",
       " 0.4781571924686432,\n",
       " 0.4993700683116913,\n",
       " 0.46275797486305237,\n",
       " 0.4920247495174408,\n",
       " 0.4735527038574219,\n",
       " 0.5081155896186829,\n",
       " 0.4810228645801544,\n",
       " 0.5055596232414246,\n",
       " 0.531557559967041,\n",
       " 0.5237783193588257,\n",
       " 0.5116597414016724,\n",
       " 0.5295447707176208]"
      ]
     },
     "execution_count": 24,
     "metadata": {},
     "output_type": "execute_result"
    }
   ],
   "source": [
    "history.history['val_loss']"
   ]
  },
  {
   "cell_type": "code",
   "execution_count": 25,
   "id": "5ca9a385",
   "metadata": {},
   "outputs": [
    {
     "data": {
      "text/plain": [
       "[0.8227083086967468,\n",
       " 0.8648541569709778,\n",
       " 0.8786666393280029,\n",
       " 0.887374997138977,\n",
       " 0.8941666483879089,\n",
       " 0.8989791870117188,\n",
       " 0.9043333530426025,\n",
       " 0.9081249833106995,\n",
       " 0.9133333563804626,\n",
       " 0.9152500033378601,\n",
       " 0.9193333387374878,\n",
       " 0.921500027179718,\n",
       " 0.9255833625793457,\n",
       " 0.929604172706604,\n",
       " 0.9292916655540466,\n",
       " 0.9332083463668823,\n",
       " 0.9361249804496765,\n",
       " 0.9365416765213013,\n",
       " 0.9388750195503235,\n",
       " 0.9403958320617676,\n",
       " 0.9431041479110718,\n",
       " 0.9434375166893005,\n",
       " 0.9470000267028809,\n",
       " 0.9472083449363708,\n",
       " 0.949916660785675,\n",
       " 0.9510208368301392,\n",
       " 0.9520000219345093,\n",
       " 0.953166663646698,\n",
       " 0.9552708268165588,\n",
       " 0.9548749923706055,\n",
       " 0.956333339214325,\n",
       " 0.9589166641235352,\n",
       " 0.9596874713897705,\n",
       " 0.9596874713897705,\n",
       " 0.9618541598320007,\n",
       " 0.9626666903495789,\n",
       " 0.9633125066757202,\n",
       " 0.9623958468437195,\n",
       " 0.9645624756813049,\n",
       " 0.9667083621025085,\n",
       " 0.9672499895095825,\n",
       " 0.9652291536331177,\n",
       " 0.9681458473205566,\n",
       " 0.9683333039283752,\n",
       " 0.9698958396911621,\n",
       " 0.9701041579246521,\n",
       " 0.9712916612625122,\n",
       " 0.9713541865348816,\n",
       " 0.9709374904632568,\n",
       " 0.9734166860580444]"
      ]
     },
     "execution_count": 25,
     "metadata": {},
     "output_type": "execute_result"
    }
   ],
   "source": [
    "history.history['accuracy']"
   ]
  },
  {
   "cell_type": "code",
   "execution_count": 27,
   "id": "7cfa31f1",
   "metadata": {},
   "outputs": [
    {
     "data": {
      "image/png": "[encoded data removed]",
      "text/plain": [
       "<Figure size 576x288 with 2 Axes>"
      ]
     },
     "metadata": {
      "needs_background": "light"
     },
     "output_type": "display_data"
    }
   ],
   "source": [
    "epochs =50\n",
    "acc = history.history['accuracy']\n",
    "val_acc = history.history['val_accuracy']\n",
    "\n",
    "loss = history.history['loss']\n",
    "val_loss = history.history['val_loss']\n",
    "\n",
    "epochs_range = range(epochs)\n",
    "\n",
    "plt.figure(figsize=(8, 4))\n",
    "plt.subplot(1, 2, 1)\n",
    "plt.plot(epochs_range, acc, label='Training Accuracy')\n",
    "plt.plot(epochs_range, val_acc, label='Validation Accuracy')\n",
    "plt.legend(loc=0)\n",
    "plt.title('Training and Validation Accuracy')\n",
    "\n",
    "plt.subplot(1, 2, 2)\n",
    "plt.plot(epochs_range, loss, label='Training Loss')\n",
    "plt.plot(epochs_range, val_loss, label='Validation Loss')\n",
    "plt.legend(loc=0)\n",
    "plt.title('Training and Validation Loss')\n",
    "plt.show()"
   ]
  },
  {
   "cell_type": "code",
   "execution_count": 28,
   "id": "8b14b399",
   "metadata": {},
   "outputs": [],
   "source": [
    "# Early Stopping"
   ]
  },
  {
   "cell_type": "code",
   "execution_count": 29,
   "id": "c23b6b84",
   "metadata": {},
   "outputs": [],
   "source": [
    "model_new = keras.Sequential([\n",
    "    keras.layers.Flatten(input_shape=(28, 28)),\n",
    "    keras.layers.Dense(512, activation='relu'),\n",
    "    keras.layers.Dense(10,'softmax')\n",
    "])"
   ]
  },
  {
   "cell_type": "code",
   "execution_count": 30,
   "id": "230d4fda",
   "metadata": {},
   "outputs": [
    {
     "name": "stdout",
     "output_type": "stream",
     "text": [
      "Model: \"sequential_1\"\n",
      "_________________________________________________________________\n",
      "Layer (type)                 Output Shape              Param #   \n",
      "=================================================================\n",
      "flatten_1 (Flatten)          (None, 784)               0         \n",
      "_________________________________________________________________\n",
      "dense_2 (Dense)              (None, 512)               401920    \n",
      "_________________________________________________________________\n",
      "dense_3 (Dense)              (None, 10)                5130      \n",
      "=================================================================\n",
      "Total params: 407,050\n",
      "Trainable params: 407,050\n",
      "Non-trainable params: 0\n",
      "_________________________________________________________________\n"
     ]
    }
   ],
   "source": [
    "model_new.summary()"
   ]
  },
  {
   "cell_type": "code",
   "execution_count": 31,
   "id": "89ac0986",
   "metadata": {},
   "outputs": [],
   "source": [
    "model_new.compile(optimizer='adam',\n",
    "                 loss=\"sparse_categorical_crossentropy\",\n",
    "                 metrics=['accuracy'])"
   ]
  },
  {
   "cell_type": "code",
   "execution_count": 32,
   "id": "643fa01b",
   "metadata": {},
   "outputs": [],
   "source": [
    "callback = keras.callbacks.EarlyStopping(monitor='val_loss',patience=10)"
   ]
  },
  {
   "cell_type": "code",
   "execution_count": 33,
   "id": "6adc3a6d",
   "metadata": {},
   "outputs": [
    {
     "name": "stdout",
     "output_type": "stream",
     "text": [
      "Epoch 1/50\n",
      "1500/1500 [==============================] - 12s 8ms/step - loss: 0.4894 - accuracy: 0.8255 - val_loss: 0.3997 - val_accuracy: 0.8572\n",
      "Epoch 2/50\n",
      "1500/1500 [==============================] - 12s 8ms/step - loss: 0.3659 - accuracy: 0.8648 - val_loss: 0.3671 - val_accuracy: 0.8696\n",
      "Epoch 3/50\n",
      "1500/1500 [==============================] - 11s 7ms/step - loss: 0.3290 - accuracy: 0.8796 - val_loss: 0.3398 - val_accuracy: 0.8802\n",
      "Epoch 4/50\n",
      "1500/1500 [==============================] - 11s 7ms/step - loss: 0.3034 - accuracy: 0.8877 - val_loss: 0.3600 - val_accuracy: 0.8703\n",
      "Epoch 5/50\n",
      "1500/1500 [==============================] - 11s 7ms/step - loss: 0.2848 - accuracy: 0.8946 - val_loss: 0.3286 - val_accuracy: 0.8777\n",
      "Epoch 6/50\n",
      "1500/1500 [==============================] - 11s 7ms/step - loss: 0.2694 - accuracy: 0.8979 - val_loss: 0.3316 - val_accuracy: 0.8802\n",
      "Epoch 7/50\n",
      "1500/1500 [==============================] - 11s 7ms/step - loss: 0.2548 - accuracy: 0.9043 - val_loss: 0.3212 - val_accuracy: 0.8875\n",
      "Epoch 8/50\n",
      "1500/1500 [==============================] - 11s 7ms/step - loss: 0.2433 - accuracy: 0.9098 - val_loss: 0.3312 - val_accuracy: 0.8882\n",
      "Epoch 9/50\n",
      "1500/1500 [==============================] - 11s 7ms/step - loss: 0.2333 - accuracy: 0.9139 - val_loss: 0.3148 - val_accuracy: 0.8875\n",
      "Epoch 10/50\n",
      "1500/1500 [==============================] - 11s 7ms/step - loss: 0.2243 - accuracy: 0.9157 - val_loss: 0.3256 - val_accuracy: 0.8888\n",
      "Epoch 11/50\n",
      "1500/1500 [==============================] - 11s 7ms/step - loss: 0.2152 - accuracy: 0.9190 - val_loss: 0.3221 - val_accuracy: 0.8910\n",
      "Epoch 12/50\n",
      "1500/1500 [==============================] - 11s 8ms/step - loss: 0.2063 - accuracy: 0.9231 - val_loss: 0.3340 - val_accuracy: 0.8863\n",
      "Epoch 13/50\n",
      "1500/1500 [==============================] - 11s 7ms/step - loss: 0.1972 - accuracy: 0.9264 - val_loss: 0.3149 - val_accuracy: 0.8922\n",
      "Epoch 14/50\n",
      "1500/1500 [==============================] - 11s 7ms/step - loss: 0.1910 - accuracy: 0.9277 - val_loss: 0.3433 - val_accuracy: 0.8828\n",
      "Epoch 15/50\n",
      "1500/1500 [==============================] - 11s 7ms/step - loss: 0.1848 - accuracy: 0.9314 - val_loss: 0.3228 - val_accuracy: 0.8960\n",
      "Epoch 16/50\n",
      "1500/1500 [==============================] - 11s 7ms/step - loss: 0.1759 - accuracy: 0.9337 - val_loss: 0.3431 - val_accuracy: 0.8903\n",
      "Epoch 17/50\n",
      "1500/1500 [==============================] - 11s 7ms/step - loss: 0.1733 - accuracy: 0.9336 - val_loss: 0.3272 - val_accuracy: 0.8915\n",
      "Epoch 18/50\n",
      "1500/1500 [==============================] - 11s 7ms/step - loss: 0.1653 - accuracy: 0.9379 - val_loss: 0.3485 - val_accuracy: 0.8951\n",
      "Epoch 19/50\n",
      "1500/1500 [==============================] - 11s 7ms/step - loss: 0.1602 - accuracy: 0.9408 - val_loss: 0.3485 - val_accuracy: 0.8930\n"
     ]
    }
   ],
   "source": [
    "history = model_new.fit(train_images, train_labels, epochs=50, validation_split=0.2,callbacks=callback,verbose=1)"
   ]
  },
  {
   "cell_type": "code",
   "execution_count": 34,
   "id": "edd34dc6",
   "metadata": {},
   "outputs": [
    {
     "data": {
      "image/png": "[encoded data removed]",
      "text/plain": [
       "<Figure size 576x288 with 2 Axes>"
      ]
     },
     "metadata": {
      "needs_background": "light"
     },
     "output_type": "display_data"
    }
   ],
   "source": [
    "epochs = 19\n",
    "acc = history.history['accuracy']\n",
    "val_acc = history.history['val_accuracy']\n",
    "\n",
    "loss = history.history['loss']\n",
    "val_loss = history.history['val_loss']\n",
    "\n",
    "epochs_range = range(epochs)\n",
    "\n",
    "plt.figure(figsize=(8, 4))\n",
    "plt.subplot(1, 2, 1)\n",
    "plt.plot(epochs_range, acc, label='Training Accuracy')\n",
    "plt.plot(epochs_range, val_acc, label='Validation Accuracy')\n",
    "plt.legend(loc=0)\n",
    "plt.title('Training and Validation Accuracy')\n",
    "\n",
    "plt.subplot(1, 2, 2)\n",
    "plt.plot(epochs_range, loss, label='Training Loss')\n",
    "plt.plot(epochs_range, val_loss, label='Validation Loss')\n",
    "plt.legend(loc=0)\n",
    "plt.title('Training and Validation Loss')\n",
    "plt.show()"
   ]
  },
  {
   "cell_type": "code",
   "execution_count": null,
   "id": "2cb9a8ee",
   "metadata": {},
   "outputs": [],
   "source": []
  }
 ],
 "metadata": {
  "kernelspec": {
   "display_name": "Python 3",
   "language": "python",
   "name": "python3"
  },
  "language_info": {
   "codemirror_mode": {
    "name": "ipython",
    "version": 3
   },
   "file_extension": ".py",
   "mimetype": "text/x-python",
   "name": "python",
   "nbconvert_exporter": "python",
   "pygments_lexer": "ipython3",
   "version": "3.6.13"
  }
 },
 "nbformat": 4,
 "nbformat_minor": 5
}
