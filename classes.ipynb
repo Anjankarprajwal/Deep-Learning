{
 "cells": [
  {
   "cell_type": "code",
   "execution_count": 1,
   "id": "b70df49d",
   "metadata": {},
   "outputs": [],
   "source": [
    "class Myclass:\n",
    "    x = 5"
   ]
  },
  {
   "cell_type": "code",
   "execution_count": 2,
   "id": "331531e2",
   "metadata": {},
   "outputs": [],
   "source": [
    "# create object "
   ]
  },
  {
   "cell_type": "code",
   "execution_count": 3,
   "id": "371ef530",
   "metadata": {},
   "outputs": [],
   "source": [
    "a1 = Myclass()"
   ]
  },
  {
   "cell_type": "code",
   "execution_count": 4,
   "id": "8462c3e6",
   "metadata": {},
   "outputs": [
    {
     "name": "stdout",
     "output_type": "stream",
     "text": [
      "5\n"
     ]
    }
   ],
   "source": [
    "print(a1.x)"
   ]
  },
  {
   "cell_type": "code",
   "execution_count": 5,
   "id": "4e1102b5",
   "metadata": {},
   "outputs": [],
   "source": [
    "class Person:\n",
    "    def __init__(self,name,age):\n",
    "        self.name = name\n",
    "        self.age = age\n",
    "        "
   ]
  },
  {
   "cell_type": "code",
   "execution_count": 6,
   "id": "ade49691",
   "metadata": {},
   "outputs": [],
   "source": [
    "p1 = Person('prajwal',22)"
   ]
  },
  {
   "cell_type": "code",
   "execution_count": 7,
   "id": "f4c1b362",
   "metadata": {},
   "outputs": [
    {
     "data": {
      "text/plain": [
       "'prajwal'"
      ]
     },
     "execution_count": 7,
     "metadata": {},
     "output_type": "execute_result"
    }
   ],
   "source": [
    "p1.name"
   ]
  },
  {
   "cell_type": "code",
   "execution_count": 8,
   "id": "9a6e977a",
   "metadata": {},
   "outputs": [
    {
     "data": {
      "text/plain": [
       "22"
      ]
     },
     "execution_count": 8,
     "metadata": {},
     "output_type": "execute_result"
    }
   ],
   "source": [
    "p1.age"
   ]
  },
  {
   "cell_type": "code",
   "execution_count": 9,
   "id": "c4427c5d",
   "metadata": {},
   "outputs": [],
   "source": [
    "class Person:\n",
    "    def __init__(self,fname,lname):\n",
    "        self.firstname = fname\n",
    "        self.lastname = lname\n",
    "    def printName(self):\n",
    "        print(self.firstname,self.lastname)"
   ]
  },
  {
   "cell_type": "code",
   "execution_count": 10,
   "id": "686b43a0",
   "metadata": {},
   "outputs": [],
   "source": [
    "x = Person('sonu','tiwari')"
   ]
  },
  {
   "cell_type": "code",
   "execution_count": 11,
   "id": "6e650654",
   "metadata": {},
   "outputs": [
    {
     "data": {
      "text/plain": [
       "'tiwari'"
      ]
     },
     "execution_count": 11,
     "metadata": {},
     "output_type": "execute_result"
    }
   ],
   "source": [
    "x.lastname"
   ]
  },
  {
   "cell_type": "code",
   "execution_count": 12,
   "id": "0dc728d1",
   "metadata": {},
   "outputs": [
    {
     "data": {
      "text/plain": [
       "'sonu'"
      ]
     },
     "execution_count": 12,
     "metadata": {},
     "output_type": "execute_result"
    }
   ],
   "source": [
    "x.firstname"
   ]
  },
  {
   "cell_type": "code",
   "execution_count": 13,
   "id": "8cd5a00d",
   "metadata": {},
   "outputs": [
    {
     "name": "stdout",
     "output_type": "stream",
     "text": [
      "sonu tiwari\n"
     ]
    }
   ],
   "source": [
    "x.printName()"
   ]
  },
  {
   "cell_type": "code",
   "execution_count": 14,
   "id": "e588c0c5",
   "metadata": {},
   "outputs": [],
   "source": [
    "class student(Person):\n",
    "    pass      # It will be use all properties of person"
   ]
  },
  {
   "cell_type": "code",
   "execution_count": 15,
   "id": "fa3d541b",
   "metadata": {},
   "outputs": [],
   "source": [
    "y = student('ramu','sharma')"
   ]
  },
  {
   "cell_type": "code",
   "execution_count": 16,
   "id": "0316ae48",
   "metadata": {},
   "outputs": [
    {
     "data": {
      "text/plain": [
       "'ramu'"
      ]
     },
     "execution_count": 16,
     "metadata": {},
     "output_type": "execute_result"
    }
   ],
   "source": [
    "y.firstname"
   ]
  },
  {
   "cell_type": "code",
   "execution_count": 17,
   "id": "512526eb",
   "metadata": {},
   "outputs": [
    {
     "data": {
      "text/plain": [
       "'sharma'"
      ]
     },
     "execution_count": 17,
     "metadata": {},
     "output_type": "execute_result"
    }
   ],
   "source": [
    "y.lastname"
   ]
  },
  {
   "cell_type": "code",
   "execution_count": 18,
   "id": "ecc8d5d6",
   "metadata": {},
   "outputs": [
    {
     "name": "stdout",
     "output_type": "stream",
     "text": [
      "ramu sharma\n"
     ]
    }
   ],
   "source": [
    "y.printName()"
   ]
  },
  {
   "cell_type": "code",
   "execution_count": 19,
   "id": "943fe86a",
   "metadata": {},
   "outputs": [],
   "source": [
    "# Add __init__() child class then child will no longer to inherit parent"
   ]
  },
  {
   "cell_type": "code",
   "execution_count": 20,
   "id": "889fa52e",
   "metadata": {},
   "outputs": [],
   "source": [
    "class Student(Person):\n",
    "    def __init__(self,fname,lname):\n",
    "        self.firstname = fname\n",
    "        self.lastname = lname"
   ]
  },
  {
   "cell_type": "code",
   "execution_count": 21,
   "id": "da8c4d33",
   "metadata": {},
   "outputs": [],
   "source": [
    "h = Student('ramu','sharma')"
   ]
  },
  {
   "cell_type": "code",
   "execution_count": 22,
   "id": "a4d49177",
   "metadata": {},
   "outputs": [
    {
     "data": {
      "text/plain": [
       "'ramu'"
      ]
     },
     "execution_count": 22,
     "metadata": {},
     "output_type": "execute_result"
    }
   ],
   "source": [
    "h.firstname"
   ]
  },
  {
   "cell_type": "code",
   "execution_count": 23,
   "id": "f3bcb9c8",
   "metadata": {},
   "outputs": [
    {
     "data": {
      "text/plain": [
       "'sharma'"
      ]
     },
     "execution_count": 23,
     "metadata": {},
     "output_type": "execute_result"
    }
   ],
   "source": [
    "h.lastname"
   ]
  },
  {
   "cell_type": "code",
   "execution_count": 25,
   "id": "1237ddd9",
   "metadata": {},
   "outputs": [
    {
     "name": "stdout",
     "output_type": "stream",
     "text": [
      "ramu sharma\n"
     ]
    }
   ],
   "source": [
    "h.printName()"
   ]
  },
  {
   "cell_type": "code",
   "execution_count": null,
   "id": "b6ea636f",
   "metadata": {},
   "outputs": [],
   "source": []
  }
 ],
 "metadata": {
  "kernelspec": {
   "display_name": "Python 3",
   "language": "python",
   "name": "python3"
  },
  "language_info": {
   "codemirror_mode": {
    "name": "ipython",
    "version": 3
   },
   "file_extension": ".py",
   "mimetype": "text/x-python",
   "name": "python",
   "nbconvert_exporter": "python",
   "pygments_lexer": "ipython3",
   "version": "3.6.13"
  }
 },
 "nbformat": 4,
 "nbformat_minor": 5
}
